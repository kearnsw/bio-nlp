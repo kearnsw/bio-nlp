{
 "cells": [
  {
   "cell_type": "code",
   "execution_count": 215,
   "metadata": {},
   "outputs": [
    {
     "data": {
      "text/html": [
       "<img src=\"http://colah.github.io/posts/2015-08-Understanding-LSTMs/img/LSTM3-chain.png\"/>"
      ],
      "text/plain": [
       "<IPython.core.display.Image object>"
      ]
     },
     "execution_count": 215,
     "metadata": {},
     "output_type": "execute_result"
    }
   ],
   "source": [
    "from IPython.display import Image\n",
    "from IPython.core.display import HTML \n",
    "Image(url= \"http://colah.github.io/posts/2015-08-Understanding-LSTMs/img/LSTM3-chain.png\")"
   ]
  },
  {
   "cell_type": "code",
   "execution_count": 216,
   "metadata": {},
   "outputs": [],
   "source": [
    "import numpy as np\n",
    "import os\n",
    "\n",
    "# Seed random variables for reproducibility\n",
    "os.environ['PYTHONHASHSEED'] = '1974'\n",
    "np.random.seed(0)"
   ]
  },
  {
   "cell_type": "markdown",
   "metadata": {},
   "source": [
    "# Functions\n",
    "\n",
    "Below we explore the non-linear activation functions used in vanilla implementations of LSTMs. For an extensive list of activation functions and their forumlae there is an excellent table at https://en.wikipedia.org/wiki/Activation_function."
   ]
  },
  {
   "cell_type": "markdown",
   "metadata": {},
   "source": [
    "## Sigmoid\n",
    "\n",
    "The logistic sigmoid function has a mean, $\\mu$ of 0 and std. dev. of 1."
   ]
  },
  {
   "cell_type": "code",
   "execution_count": 217,
   "metadata": {},
   "outputs": [
    {
     "data": {
      "image/png": "[encoded data removed]",
      "text/plain": [
       "<matplotlib.figure.Figure at 0xbf86128>"
      ]
     },
     "metadata": {},
     "output_type": "display_data"
    }
   ],
   "source": [
    "import numpy as np\n",
    "from matplotlib import pyplot as plt\n",
    "\n",
    "def sigmoid(x):\n",
    "    return 1/(1 + np.exp(-x))\n",
    "\n",
    "xs = sorted(np.random.uniform(-5, 5, size=100))\n",
    "ys = [sigmoid(x) for x in xs]\n",
    "plt.plot(xs, ys)\n",
    "plt.show()"
   ]
  },
  {
   "cell_type": "markdown",
   "metadata": {},
   "source": [
    "## Tanh\n",
    "\n",
    "Hyperbolic tangent function has a range (-1, 1) with a mean, $\\mu$ of 0."
   ]
  },
  {
   "cell_type": "code",
   "execution_count": 218,
   "metadata": {},
   "outputs": [
    {
     "data": {
      "image/png": "[encoded data removed]",
      "text/plain": [
       "<matplotlib.figure.Figure at 0xba8e9e8>"
      ]
     },
     "metadata": {},
     "output_type": "display_data"
    }
   ],
   "source": [
    "def tanh(x):\n",
    "    return 2/(1 + np.exp(-2*x)) - 1\n",
    "\n",
    "ys = [tanh(x) for x in xs]\n",
    "plt.plot(xs, ys)\n",
    "plt.show()"
   ]
  },
  {
   "cell_type": "markdown",
   "metadata": {},
   "source": [
    "# Hyperparameters\n",
    "\n",
    "These are parameters that we will tune using distributed methods later, right now think of them as arbitrary values that define the shape of our network."
   ]
  },
  {
   "cell_type": "code",
   "execution_count": 243,
   "metadata": {
    "collapsed": true
   },
   "outputs": [],
   "source": [
    "embedding_dim = 3\n",
    "hidden_dim = 4"
   ]
  },
  {
   "cell_type": "markdown",
   "metadata": {},
   "source": [
    "# Parameters"
   ]
  },
  {
   "cell_type": "code",
   "execution_count": 220,
   "metadata": {},
   "outputs": [
    {
     "name": "stdout",
     "output_type": "stream",
     "text": [
      "[[ 0.67781654  0.27000797  0.73519402]]\n",
      "[[ 0.96218855  0.24875314  0.57615733  0.59204193]]\n",
      "[[ 0.57225191  0.22308163  0.95274901  0.44712538]]\n"
     ]
    }
   ],
   "source": [
    "sentence = \"The quick brown fox jumps over the lazy dog\"\n",
    "#sentence = \"All A B\"\n",
    "tokens = sentence.split(\" \")\n",
    "\n",
    "def initialize_parameters():\n",
    "    word_embedding = np.random.rand(1, embedding_dim)\n",
    "    prev_hidden_state = np.random.rand(1, hidden_dim)\n",
    "    cell_state = np.random.rand(1, hidden_dim)\n",
    "    bias = np.zeros(1)\n",
    "    \n",
    "    return {\"word_embedding\": word_embedding, \"prev_hidden_state\": prev_hidden_state,\n",
    "            \"cell_state\": cell_state, \"bias\": bias}\n",
    "\n",
    "params = initialize_parameters()\n",
    "print(params[\"word_embedding\"])\n",
    "print(params[\"prev_hidden_state\"])\n",
    "print(params[\"cell_state\"])"
   ]
  },
  {
   "cell_type": "markdown",
   "metadata": {},
   "source": [
    "# LSTM\n",
    "## Forget gate\n",
    "\n",
    "$f_t = $ "
   ]
  },
  {
   "cell_type": "code",
   "execution_count": 221,
   "metadata": {},
   "outputs": [
    {
     "data": {
      "text/html": [
       "<img src=\"http://colah.github.io/posts/2015-08-Understanding-LSTMs/img/LSTM3-focus-f.png\" width=\"1000\" height=\"1000\"/>"
      ],
      "text/plain": [
       "<IPython.core.display.Image object>"
      ]
     },
     "execution_count": 221,
     "metadata": {},
     "output_type": "execute_result"
    }
   ],
   "source": [
    "from IPython.display import Image\n",
    "from IPython.core.display import HTML \n",
    "Image(url= \"http://colah.github.io/posts/2015-08-Understanding-LSTMs/img/LSTM3-focus-f.png\", width=1000, height=1000)"
   ]
  },
  {
   "cell_type": "code",
   "execution_count": 222,
   "metadata": {
    "collapsed": true
   },
   "outputs": [],
   "source": [
    "W_f = np.random.randn(hidden_dim, hidden_dim + embedding_dim)\n",
    "b_f = np.zeros(1)"
   ]
  },
  {
   "cell_type": "code",
   "execution_count": 244,
   "metadata": {},
   "outputs": [],
   "source": [
    "_input = np.concatenate((params[\"word_embedding\"], params[\"prev_hidden_state\"]), axis=1)\n",
    "\n",
    "def forget_gate(_input):\n",
    "    # Compute forget gate via sigmoid function on affine map of input\n",
    "    # make use of python broadcasting to add the bias vector across all vectors of the weighted input matrix\n",
    "    forget_mask = sigmoid(np.dot(W_f, _input.T) + b_f)\n",
    "    return forget_mask.T"
   ]
  },
  {
   "cell_type": "markdown",
   "metadata": {},
   "source": [
    "## Ignore Gate"
   ]
  },
  {
   "cell_type": "code",
   "execution_count": 245,
   "metadata": {},
   "outputs": [
    {
     "data": {
      "text/html": [
       "<img src=\"http://colah.github.io/posts/2015-08-Understanding-LSTMs/img/LSTM3-focus-i.png\" width=\"1000\" height=\"1000\"/>"
      ],
      "text/plain": [
       "<IPython.core.display.Image object>"
      ]
     },
     "execution_count": 245,
     "metadata": {},
     "output_type": "execute_result"
    }
   ],
   "source": [
    "from IPython.display import Image\n",
    "from IPython.core.display import HTML \n",
    "Image(url= \"http://colah.github.io/posts/2015-08-Understanding-LSTMs/img/LSTM3-focus-i.png\", width=1000, height=1000)"
   ]
  },
  {
   "cell_type": "code",
   "execution_count": 246,
   "metadata": {
    "collapsed": true
   },
   "outputs": [],
   "source": [
    "W_i = np.random.randn(hidden_dim, hidden_dim + embedding_dim)\n",
    "b_i = np.zeros(1)\n",
    "\n",
    "W_c = np.random.randn(hidden_dim, hidden_dim + embedding_dim)\n",
    "b_c = np.zeros(1)"
   ]
  },
  {
   "cell_type": "code",
   "execution_count": 247,
   "metadata": {
    "collapsed": true
   },
   "outputs": [],
   "source": [
    "def input_gate(_input):\n",
    "    i = sigmoid(np.dot(W_i, _input.T) + b_i)\n",
    "    c = tanh(np.dot(W_c, _input.T) + b_c)\n",
    "    return (i * c).T"
   ]
  },
  {
   "cell_type": "code",
   "execution_count": 248,
   "metadata": {},
   "outputs": [
    {
     "data": {
      "text/html": [
       "<img src=\"http://colah.github.io/posts/2015-08-Understanding-LSTMs/img/LSTM3-focus-C.png\" width=\"1000\" height=\"1000\"/>"
      ],
      "text/plain": [
       "<IPython.core.display.Image object>"
      ]
     },
     "execution_count": 248,
     "metadata": {},
     "output_type": "execute_result"
    }
   ],
   "source": [
    "from IPython.display import Image\n",
    "from IPython.core.display import HTML \n",
    "Image(url= \"http://colah.github.io/posts/2015-08-Understanding-LSTMs/img/LSTM3-focus-C.png\", width=1000, height=1000)"
   ]
  },
  {
   "cell_type": "code",
   "execution_count": 249,
   "metadata": {
    "collapsed": true
   },
   "outputs": [],
   "source": [
    "params[\"cell_state\"] = forget_gate(_input) * params[\"cell_state\"] + input_gate(_input)"
   ]
  },
  {
   "cell_type": "code",
   "execution_count": 250,
   "metadata": {},
   "outputs": [
    {
     "data": {
      "text/plain": [
       "array([[ 0.31791415, -0.47202775, -0.05245668, -0.35293658]])"
      ]
     },
     "execution_count": 250,
     "metadata": {},
     "output_type": "execute_result"
    }
   ],
   "source": [
    "params[\"cell_state\"]"
   ]
  },
  {
   "cell_type": "code",
   "execution_count": 251,
   "metadata": {},
   "outputs": [
    {
     "data": {
      "text/html": [
       "<img src=\"http://colah.github.io/posts/2015-08-Understanding-LSTMs/img/LSTM3-focus-o.png\" width=\"1000\" height=\"1000\"/>"
      ],
      "text/plain": [
       "<IPython.core.display.Image object>"
      ]
     },
     "execution_count": 251,
     "metadata": {},
     "output_type": "execute_result"
    }
   ],
   "source": [
    "from IPython.display import Image\n",
    "from IPython.core.display import HTML \n",
    "Image(url= \"http://colah.github.io/posts/2015-08-Understanding-LSTMs/img/LSTM3-focus-o.png\", width=1000, height=1000)"
   ]
  },
  {
   "cell_type": "code",
   "execution_count": 252,
   "metadata": {
    "collapsed": true
   },
   "outputs": [],
   "source": [
    "# Initialize weights\n",
    "W_o = np.random.randn(hidden_dim, hidden_dim + embedding_dim)\n",
    "b_o = np.zeros(1)"
   ]
  },
  {
   "cell_type": "code",
   "execution_count": 253,
   "metadata": {
    "collapsed": true
   },
   "outputs": [],
   "source": [
    "def output_gate(_input):\n",
    "    output_mask = sigmoid(np.dot(W_o, _input.T) + b_o)\n",
    "    return output_mask.T"
   ]
  },
  {
   "cell_type": "code",
   "execution_count": 258,
   "metadata": {
    "collapsed": true
   },
   "outputs": [],
   "source": [
    "params[\"hidden_state\"] = output_gate(_input) * tanh(params[\"cell_state\"])"
   ]
  },
  {
   "cell_type": "code",
   "execution_count": 261,
   "metadata": {},
   "outputs": [],
   "source": [
    "lstm_output = []\n",
    "lstm_output.append(params[\"hidden_state\"])"
   ]
  }
 ],
 "metadata": {
  "kernelspec": {
   "display_name": "Python 3",
   "language": "python",
   "name": "python3"
  },
  "language_info": {
   "codemirror_mode": {
    "name": "ipython",
    "version": 3
   },
   "file_extension": ".py",
   "mimetype": "text/x-python",
   "name": "python",
   "nbconvert_exporter": "python",
   "pygments_lexer": "ipython3",
   "version": "3.6.1"
  }
 },
 "nbformat": 4,
 "nbformat_minor": 1
}
